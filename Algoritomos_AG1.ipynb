{
  "nbformat": 4,
  "nbformat_minor": 0,
  "metadata": {
    "colab": {
      "provenance": [],
      "authorship_tag": "ABX9TyPhSEw9df0EcG4O1SJw1w0D",
      "include_colab_link": true
    },
    "kernelspec": {
      "name": "python3",
      "display_name": "Python 3"
    },
    "language_info": {
      "name": "python"
    }
  },
  "cells": [
    {
      "cell_type": "markdown",
      "metadata": {
        "id": "view-in-github",
        "colab_type": "text"
      },
      "source": [
        "<a href=\"https://colab.research.google.com/github/Manurestre/03MIAR---Algoritmos-de-Optimizacion/blob/main/Algoritomos_AG1.ipynb\" target=\"_parent\"><img src=\"https://colab.research.google.com/assets/colab-badge.svg\" alt=\"Open In Colab\"/></a>"
      ]
    },
    {
      "cell_type": "markdown",
      "source": [
        "Actividad guiada #1 <br>\n",
        "Nombre: Manuel Alejandro Restrepo Castro<br>\n",
        "Enlace Colab: [https://colab.research.google.com/drive/1tIGjhUYn0AoqKGURUkH-YspQFvOEk92s?usp=sharing](https://)<br>\n",
        "\n",
        "Enlace GitHub: [https://github.com/Manurestre/03MIAR---Algoritmos-de-Optimizacion](https://)\n"
      ],
      "metadata": {
        "id": "MAsawAqvPGWJ"
      }
    },
    {
      "cell_type": "code",
      "source": [
        "#Importación de librerias\n",
        "from math import dist"
      ],
      "metadata": {
        "id": "qkwbE80WJ20P"
      },
      "execution_count": null,
      "outputs": []
    },
    {
      "cell_type": "code",
      "source": [
        "#Torres de Hanoi\n",
        "def Torres_hanoi(N, desde, hasta):\n",
        "  # N nº de fichas\n",
        "  #desde nº poste\n",
        "  #hasta nº poste hasta\n",
        "\n",
        "  if N == 1 :\n",
        "    print(\"Lleva la ficha desde \" + str(desde) + \" hasta \" + str(hasta))\n",
        "  else:\n",
        "    Torres_hanoi(N-1, desde, 6 - desde - hasta)\n",
        "    \n",
        "    print(\"Lleva la ficha desde \" + str(desde) + \" hasta \" + str(hasta))\n",
        "    Torres_hanoi(N-1, 6 - desde - hasta, hasta)\n",
        "\n",
        "\n",
        "Torres_hanoi(2,1,3)"
      ],
      "metadata": {
        "colab": {
          "base_uri": "https://localhost:8080/"
        },
        "id": "-dGNaMAsRCpU",
        "outputId": "35bbf17a-101e-4ef4-9e15-c7950c7e2bb5"
      },
      "execution_count": null,
      "outputs": [
        {
          "output_type": "stream",
          "name": "stdout",
          "text": [
            "Lleva la ficha desde 1 hasta 2\n",
            "1\n",
            "Lleva la ficha desde 1 hasta 3\n",
            "Lleva la ficha desde 2 hasta 3\n"
          ]
        }
      ]
    },
    {
      "cell_type": "code",
      "source": [
        "#Cambio de monedas\n",
        "def cambio_monedas(cantidad, sistema):\n",
        "  # cantidad a cambiar\n",
        "  # sistema: valor de las monedas diferente, ordenado de mayor valor a menor\n",
        "  sistema.sort(reverse=True)# Se organiza la lista para que tome desde los valores más altos.\n",
        "  solucion = {}\n",
        "  for v in sistema:\n",
        "    monedas = cantidad // v\n",
        "    solucion[v] = monedas\n",
        "    cantidad -= monedas * v\n",
        "\n",
        "    if cantidad == 0:\n",
        "      return solucion  \n",
        "\n",
        "cambio_monedas(180, [2,5,10,20,50])"
      ],
      "metadata": {
        "colab": {
          "base_uri": "https://localhost:8080/"
        },
        "id": "0WChptA2WlDC",
        "outputId": "6c6ce696-bfcc-4333-e0eb-23933e291523"
      },
      "execution_count": null,
      "outputs": [
        {
          "output_type": "stream",
          "name": "stdout",
          "text": [
            "50 3\n",
            "20 1\n",
            "10 1\n"
          ]
        },
        {
          "output_type": "execute_result",
          "data": {
            "text/plain": [
              "{50: 3, 20: 1, 10: 1}"
            ]
          },
          "metadata": {},
          "execution_count": 16
        }
      ]
    },
    {
      "cell_type": "code",
      "source": [
        "#Problema N - reinas vuelta atras\n",
        "\n",
        "def reinas(N, solucion=[],etapa=0):\n",
        "\n",
        "  if len(solucion) == 0:\n",
        "    solucion = [0 for i in range(N)]\n",
        "\n",
        "  for i in range(1, N+1):\n",
        "    solucion[etapa] = i\n",
        "    if es_prometedora(solucion,etapa):\n",
        "      if etapa == N-1:\n",
        "        print(solucion)\n",
        "      else:\n",
        "        reinas(N,solucion,etapa+1)\n",
        "    else:\n",
        "      None\n",
        "  solucion[etapa] = 0\n",
        "\n",
        "#####################################################################\n",
        "def es_prometedora(SOLUCION, etapa):\n",
        "  for i in range(etapa+1):\n",
        "    if SOLUCION.count(SOLUCION[i]) > 1:\n",
        "      return False\n",
        "    for j in range(i + 1, etapa +1):\n",
        "      if abs(i-j) == abs(SOLUCION[i] - SOLUCION[j]): return False\n",
        "  return True \n",
        "\n",
        "#####################################################################\n",
        "\n",
        "def escribe_solucion(S):\n",
        "\n",
        "  n = len(S)\n",
        "  for x in range(n):\n",
        "    print(\"\")\n",
        "    for i in range(n):\n",
        "      if S[i] == x+1:\n",
        "        print(\" X \", end=\"\")\n",
        "      else:\n",
        "        print(\" - \", end=\"\") \n",
        "\n",
        "######################################################################\n",
        "\n",
        "#Ejecución del programa\n",
        "\n",
        "reinas(4,solucion=[],etapa=0)"
      ],
      "metadata": {
        "id": "0bk6nzKyjiKJ",
        "colab": {
          "base_uri": "https://localhost:8080/"
        },
        "outputId": "d123b340-0da1-4d16-aad1-ab18a26a698f"
      },
      "execution_count": null,
      "outputs": [
        {
          "output_type": "stream",
          "name": "stdout",
          "text": [
            "[2, 4, 1, 3]\n",
            "[3, 1, 4, 2]\n"
          ]
        }
      ]
    },
    {
      "cell_type": "code",
      "source": [
        "escribe_solucion([2, 4, 1, 3])"
      ],
      "metadata": {
        "colab": {
          "base_uri": "https://localhost:8080/"
        },
        "id": "ASZ4fg5Haa6a",
        "outputId": "574d8b6a-b6f4-4d26-c37a-132a08d0ba70"
      },
      "execution_count": null,
      "outputs": [
        {
          "output_type": "stream",
          "name": "stdout",
          "text": [
            "\n",
            " -  -  X  - \n",
            " X  -  -  - \n",
            " -  -  -  X \n",
            " -  X  -  - "
          ]
        }
      ]
    },
    {
      "cell_type": "markdown",
      "source": [
        "#*******************DESARROLLO DEL EJERCICIO EXTRA PARA 10 PTS, DISTANCIA MÍNIMA ENTRE DOS PUNTOS***********"
      ],
      "metadata": {
        "id": "82owg_31oWPd"
      }
    },
    {
      "cell_type": "code",
      "source": [
        "def distancia_minima_1d(puntos):\n",
        "    # ordenar los puntos\n",
        "    puntos.sort()\n",
        "    # inicializar la distancia mínima\n",
        "    dist_min = float('inf')\n",
        "    # recorrer los puntos comparando con el vecino inmediato\n",
        "    for i in range(len(puntos) - 1):\n",
        "        dist_min = min(dist_min, puntos[i + 1] - puntos[i])\n",
        "    return dist_min\n",
        "\n",
        "puntos = [1,11,5,100,10,12]\n",
        "print(distancia_minima_1d(puntos))"
      ],
      "metadata": {
        "colab": {
          "base_uri": "https://localhost:8080/"
        },
        "id": "2nQY9IpbZK90",
        "outputId": "18ce11f9-68c5-4145-83d3-fbfcb268645d"
      },
      "execution_count": null,
      "outputs": [
        {
          "output_type": "stream",
          "name": "stdout",
          "text": [
            "1\n"
          ]
        }
      ]
    },
    {
      "cell_type": "code",
      "source": [
        "#Primer intento por fuerza bruta para encontrar los dos puntos más cercanos\n",
        "def distancia_1d_fuerza_bruta(puntos):\n",
        "###########################################################################\n",
        "    dist_min = float('inf')\n",
        "    for i in range(len(puntos) - 1):\n",
        "        for j in range(i+1, len(puntos)):\n",
        "            dist_min = min(dist_min, abs(puntos[i] - puntos[j]))\n",
        "    return dist_min\n",
        "\n",
        "puntos = [1, 3, 5, 7, 9, 11, 13, 15]\n",
        "print(distancia_1d_fuerza_bruta(puntos))\n",
        "\n",
        "#Si bien para la implementación de fuerza bruta para hallar el punto más cercano es de complejidad O(n^2),\n",
        "#puesto que se comparan todas las combinaciones de puntos, la manera de mejorar es aplicar técnica de quick Sort.\n",
        "\n",
        "#Primer intento por ordenamiento para encontrar los dos puntos más cercanos\n",
        "###########################################################################\n",
        "def distancia_minima_1d_sort(puntos):\n",
        "###########################################################################\n",
        "    # ordenar los puntos\n",
        "    puntos.sort()\n",
        "    # inicializar la distancia mínima\n",
        "    dist_min = float('inf')\n",
        "    # recorrer los puntos comparando con el vecino inmediato\n",
        "    for i in range(len(puntos) - 1):\n",
        "        dist_min = min(dist_min, puntos[i + 1] - puntos[i])\n",
        "    return dist_min\n",
        "\n",
        "puntos = [1, 3, 5, 7, 9, 11, 13, 15]\n",
        "print(distancia_minima_1d_sort(puntos))\n",
        "#Si bien la complejidad para esta solución de ordenamiento es lineal O(n log n) pero si el arreglo ya viene ordenado,\n",
        "#la complejidad disminuye debido a que salta el paso de ordenación y quedaría de Orden O(n)\n",
        "\n",
        "######################################################################################\n",
        "def distancia_minima_1d_divide_y_venceras(puntos):\n",
        "######################################################################################    \n",
        "    if len(puntos) <= 2:\n",
        "        return float('inf')\n",
        "    # Dividir el conjunto de puntos en dos subconjuntos\n",
        "    mitad = len(puntos) // 2\n",
        "    puntos_izquierda = puntos[:mitad]\n",
        "    puntos_derecha = puntos[mitad:]\n",
        "    # encontrar la distancia mínima en cada subconjunto\n",
        "    dist_izquierda = distancia_minima_1d_divide_y_venceras(puntos_izquierda)\n",
        "    dist_derecha = distancia_minima_1d_divide_y_venceras(puntos_derecha)\n",
        "    dist_min = min(dist_izquierda, dist_derecha)\n",
        "    # encontrar los puntos cerca de la línea divisoria\n",
        "    puntos_cerca = [p for p in puntos if abs(p - puntos[mitad]) < dist_min]\n",
        "    # encontrar el par de puntos más cercano entre los puntos cerca de la línea divisoria\n",
        "    for i in range(len(puntos_cerca)):\n",
        "        for j in range(i+1, len(puntos_cerca)):\n",
        "            dist_min = min(dist_min, abs(puntos_cerca[i] - puntos_cerca[j]))\n",
        "    return dist_min\n",
        "\n",
        "puntos = [1, 3, 5, 7, 9, 11, 13, 15]\n",
        "print(distancia_minima_1d_divide_y_venceras(puntos))\n",
        "#Para el algoritmo de divide y venceras en una dimensión, tiene una complijidad compuacional de O(n log n), esto devido a\n",
        "#que se divide el arreglo en 2 y se comparan los puntos de cada subconjunto.\n",
        "\n",
        "######################################################################################\n",
        "def distancia_minima_2d_divide_y_vencer(puntos):\n",
        "######################################################################################\n",
        "    # caso base: solo dos o menos puntos\n",
        "    if len(puntos) <= 2:\n",
        "        return float('inf')\n",
        "    # ordenar los puntos por su coordenada x\n",
        "    puntos.sort(key=lambda p: p[0])\n",
        "    # dividir los puntos en dos subconjuntos\n",
        "    mitad = len(puntos) // 2\n",
        "    puntos_izquierda = puntos[:mitad]\n",
        "    puntos_derecha = puntos[mitad:]\n",
        "    # encontrar la distancia mínima en cada subconjunto\n",
        "    dist_izquierda = distancia_minima_2d_divide_y_vencer(puntos_izquierda)\n",
        "    dist_derecha = distancia_minima_2d_divide_y_vencer(puntos_derecha)\n",
        "    dist_min = min(dist_izquierda, dist_derecha)\n",
        "    # encontrar los puntos cerca de la línea divisoria\n",
        "    puntos_cerca = [p for p in puntos if abs(p[0] - puntos[mitad][0]) < dist_min]\n",
        "    # ordenar los puntos cerca de la línea divisoria por su coordenada y\n",
        "    puntos_cerca.sort(key=lambda p: p[1])\n",
        "    # encontrar el par de puntos más cercano entre los puntos cerca de la línea divisoria\n",
        "    for i in range(len(puntos_cerca)):\n",
        "        for j in range(i+1, min(i+8, len(puntos_cerca))):\n",
        "            dist_min = min(dist_min, dist(puntos_cerca[i], puntos_cerca[j]))\n",
        "    return dist_min\n",
        "\n",
        "# ejemplo de uso\n",
        "puntos = [(1,3), (4,5), (7,8), (9,11), (13,15), (21,22)]\n",
        "print(distancia_minima_2d_divide_y_vencer(puntos))"
      ],
      "metadata": {
        "colab": {
          "base_uri": "https://localhost:8080/"
        },
        "id": "9TyUdpn8ukHw",
        "outputId": "9c6bd227-f009-4685-9d2d-7dcb4ef98147"
      },
      "execution_count": null,
      "outputs": [
        {
          "output_type": "stream",
          "name": "stdout",
          "text": [
            "2\n",
            "2\n",
            "2\n",
            "3.6055512754639896\n"
          ]
        }
      ]
    },
    {
      "cell_type": "code",
      "source": [
        "#Primer intento con el algoritmo de kd_tree para encontrar dos puntos en tres dimensiones, usando la distancia Euclidea\n",
        "import math\n",
        "from collections import namedtuple\n",
        "\n",
        "class KDNode:\n",
        "    def __init__(self, point, axis, left=None, right=None):\n",
        "        self.point = point\n",
        "        self.axis = axis\n",
        "        self.left = left\n",
        "        self.right = right\n",
        "\n",
        "class KDTree:\n",
        "    def __init__(self, points):\n",
        "        self.root = self.build_tree(points, 0)\n",
        "\n",
        "    def build_tree(self, points, axis):\n",
        "        if not points:\n",
        "            return None\n",
        "        points.sort(key=lambda point: point[axis])\n",
        "        median = len(points) // 2\n",
        "        next_axis = (axis + 1) % 3\n",
        "        return KDNode(\n",
        "            points[median],\n",
        "            axis,\n",
        "            left=self.build_tree(points[:median], next_axis),\n",
        "            right=self.build_tree(points[median + 1:], next_axis)\n",
        "        )\n",
        "\n",
        "    def closest_point(self, point):\n",
        "        def closest_point_rec(node, point, axis, best_point, best_distance):\n",
        "            if not node:\n",
        "                return best_point, best_distance\n",
        "            point_distance = dist(point, node.point)\n",
        "            if point_distance < best_distance:\n",
        "                best_point = node.point\n",
        "                best_distance = point_distance\n",
        "            axis = node.axis\n",
        "            next_axis = (axis + 1) % 3\n",
        "            if point[axis] < node.point[axis]:\n",
        "                best_point, best_distance = closest_point_rec(node.left, point, next_axis, best_point, best_distance)\n",
        "                if best_distance > abs(point[axis] - node.point[axis]):\n",
        "                    best_point, best_distance = closest_point_rec(node.right, point, next_axis, best_point, best_distance)\n",
        "            else:\n",
        "                best_point, best_distance = closest_point_rec(node.right, point, next_axis, best_point, best_distance)\n",
        "                if best_distance > abs(point[axis] - node.point[axis]):\n",
        "                    best_point, best_distance = closest_point_rec(node.left, point, next_axis, best_point, best_distance)\n",
        "            return best_point, best_distance\n",
        "\n",
        "        def dist(p1, p2):\n",
        "            return math.sqrt((p1[0] - p2[0]) ** 2 + (p1[1] - p2[1]) ** 2 + (p1[2] - p2[2]) ** 2)\n",
        "\n",
        "        return closest_point_rec(self.root, point, 0, None, float(\"inf\"))\n",
        "\n",
        "# Example usage\n",
        "points = [(1, 2, 3), (4, 5, 6), (7, 8, 9), (10, 11, 12), (13, 14, 15)]\n",
        "tree = KDTree(points)\n",
        "print(tree.closest_point((0, 0, 0, 0, 0)))\n"
      ],
      "metadata": {
        "id": "IdT3Fsr_J_K6",
        "colab": {
          "base_uri": "https://localhost:8080/"
        },
        "outputId": "a0cbf547-3aa3-4eb6-f7f0-fb64e0d70012"
      },
      "execution_count": null,
      "outputs": [
        {
          "output_type": "stream",
          "name": "stdout",
          "text": [
            "((1, 2, 3), 3.7416573867739413)\n"
          ]
        }
      ]
    }
  ]
}