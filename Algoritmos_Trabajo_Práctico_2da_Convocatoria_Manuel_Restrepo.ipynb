{
  "nbformat": 4,
  "nbformat_minor": 0,
  "metadata": {
    "colab": {
      "provenance": [],
      "include_colab_link": true
    },
    "kernelspec": {
      "name": "python3",
      "display_name": "Python 3"
    }
  },
  "cells": [
    {
      "cell_type": "markdown",
      "metadata": {
        "id": "view-in-github",
        "colab_type": "text"
      },
      "source": [
        "<a href=\"https://colab.research.google.com/github/Manurestre/03MIAR---Algoritmos-de-Optimizacion/blob/main/Algoritmos_Trabajo_Pr%C3%A1ctico_2da_Convocatoria_Manuel_Restrepo.ipynb\" target=\"_parent\"><img src=\"https://colab.research.google.com/assets/colab-badge.svg\" alt=\"Open In Colab\"/></a>"
      ]
    },
    {
      "cell_type": "markdown",
      "metadata": {
        "id": "hVbXYX-RfPWh"
      },
      "source": [
        "# Algoritmos de optimización - Trabajo Práctico<br>\n",
        "Nombre y Apellidos: Manuel Alejandro Restrepo Castro   <br>\n",
        "Url: https://github.com/.../03MAIR---Algoritmos-de-Optimizacion---2019/tree/master/SEMINARIO<br>\n",
        "Coolab: https://colab.research.google.com/drive/1eCvbBntZOPOLO-_367cg7xATpCySDR1r?usp=sharing<br>\n",
        "Problema:\n",
        "\n",
        "<strong>>3. Combinar cifras y operaciones\n",
        "\n",
        "<strong>Descripción del problema:</strong>\n",
        "\n",
        "\n",
        "<strong>(*) La respuesta es obligatoria</strong>\n",
        "\n",
        "Disponemos de las 9 cifras del 1 al 9 (excluimos el cero) y de los 4 signos básicos de las operaciones fundamentales: suma (+), resta (-), multiplicación (*) y división (/). Debemos combinarlos alternativamente sin repetir ninguno de ellos para obtener una cantidad dada.\n",
        "\n",
        "Debe analizarse el problema para encontrar todos los valores enteros posibles planteando las siguiente cuestiones:\n",
        "* ¿Qué valor máximo y mínimo se pueden obtener según las condiciones del problema?\n",
        "* ¿Es posible encontrar todos los valores enteros posibles entre dicho mínimo y máximo?</strong>\n",
        "\n",
        "\n",
        "\n",
        "\n",
        "\n",
        "\n",
        "\n",
        "\n",
        "\n",
        "                                        "
      ]
    },
    {
      "cell_type": "markdown",
      "source": [
        "Valor máximo posible es: 78\n",
        "\n",
        "Valor mínimo posible es: -70\n",
        "\n",
        "Valores entre el mínimo y máximo:\n",
        "\n",
        "[-70, -69, -68, -67, -66, -65, -64, -63, -62, -61, -60, -59, -58, -57, -56, -55, -54, -53, -52, -51, -50, -49, -48, -47, -46, -45, -44, -43, -42, -41, -40, -39, -38, -37, -36, -35, -34, -33, -32, -31, -30, -29, -28, -27, -26, -25, -24, -23, -22, -21, -20, -19, -18, -17, -16, -15, -14, -13, -12, -11, -10, -9, -8, -7, -6, -5, -4, -3, -2, -1, 0, 1, 2, 3, 4, 5, 6, 7, 8, 9, 10, 11, 12, 13, 14, 15, 16, 17, 18, 19, 20, 21, 22, 23, 24, 25, 26, 27, 28, 29, 30, 31, 32, 33, 34, 35, 36, 37, 38, 39, 40, 41, 42, 43, 44, 45, 46, 47, 48, 49, 50, 51, 52, 53, 54, 55, 56, 57, 58, 59, 60, 61, 62, 63, 64, 65, 66, 67, 68, 69, 70, 71, 72, 73, 74, 75, 76, 77, 78]"
      ],
      "metadata": {
        "id": "0efXJo406jpO"
      }
    },
    {
      "cell_type": "markdown",
      "source": [
        "<strong>* * * * * * * * * * * * * * * * * * * * * * * * * * * * * * * * * * * * * * * * * * * * * * * * * * * * * * * * * * * * * * * * * * * * * * * * * * * * * * * * * * * * * * * * *</strong>"
      ],
      "metadata": {
        "id": "hWBbfzM_8SnQ"
      }
    },
    {
      "cell_type": "markdown",
      "source": [
        "<strong>(*)¿Cuantas posibilidades hay sin tener en cuenta las restricciones?</strong><br>"
      ],
      "metadata": {
        "id": "9WtBGqkl63AW"
      }
    },
    {
      "cell_type": "markdown",
      "source": [
        "Realizamos 2 tipos de conteo, sin tener en cuenta las restricciones. 1ro. para permutación de números y el 2do. para la permutación de los operadores.\n",
        "\n",
        "La totalidad de permutaciones sin tener en cuenta las restricciones del problema son: 9 * 9 * 9 * 9 * 9 = 59046.\n",
        "\n",
        "Y luego, el total de permutaciones de los operadores sin tener en cuenta las restricciones del problema son: 4 * 4 * 4 * 4 = 256\n",
        "\n",
        "El total de posibilidades sin tener en cuenta las restricciones del problema son: 59046 * 256 = 15115776\n",
        "\n",
        "\n",
        "* ¿Cuantas posibilidades hay teniendo en cuenta las restricciones?\n",
        "\n",
        "Se realiza 2 tipos de conteo. El primero para la permutación de números y el segundo para la permutación de operadores.\n",
        "\n",
        "Permutaciones de números con las restricciones del problema son: 9 * 8 * 7 * 6 * 5 = 15.120\n",
        "\n",
        "Permutaciones de operadores con las restricciones del problema son: 4 * 3 * 2 * 1 = 24\n",
        "\n",
        "La totalidad de posibilidades sin tener en cuenta las restricciones son: 15120 * 24 = 362880"
      ],
      "metadata": {
        "id": "IjMnNBob6_Lo"
      }
    },
    {
      "cell_type": "markdown",
      "source": [
        "<strong>* * * * * * * * * * * * * * * * * * * * * * * * * * * * * * * * * * * * * * * * * * * * * * * * * * * * * * * * * * * * * * * * * * * * * * * * * * * * * * * * * * * * * * * * *</strong>"
      ],
      "metadata": {
        "id": "oBKd-Cjb8wJ0"
      }
    },
    {
      "cell_type": "markdown",
      "source": [
        "<strong>Modelo para el espacio de soluciones<br>\n",
        "(*) ¿Cual es la estructura de datos que mejor se adapta al problema? Argumentalo.(Es posible que hayas elegido una al principio y veas la necesidad de cambiar, arguentalo)</strong>"
      ],
      "metadata": {
        "id": "1L8DLBRW9LDx"
      }
    },
    {
      "cell_type": "markdown",
      "source": [
        "La primera estructura de datos es un array que contiene cadenas con la posible solución usando todos los operadores: ['4 * 3 - 2 / 1 + 5', '5 + 1 / 9 - 3 * 7', '3 * 2 - 6 / 3 + 9', '1 / 7 + 3 * 2 - 9', ' 5 - 1 / 7 + 4 * 2', ...]\n",
        "\n",
        "La segunda estructura es de nuevo otro array pero en esta ocación de tuplas, la primera posición es la posible solución como en la primera propuesta, y el segundo parametro es el puntaje utilizada para la función fitness del algoritmo genético a emplear.\n",
        "[('4 * 3 - 2 + 1 / 6', 2.5), ('5 + 2 * 7 - 8/ 9', 0.5), ...]"
      ],
      "metadata": {
        "id": "Yj1Hf9tC9dHB"
      }
    },
    {
      "cell_type": "markdown",
      "source": [
        "<strong>* * * * * * * * * * * * * * * * * * * * * * * * * * * * * * * * * * * * * * * * * * * * * * * * * * * * * * * * * * * * * * * * * * * * * * * * * * * * * * * * * * * * * * * * *</strong>"
      ],
      "metadata": {
        "id": "TMLrDr5cCb5y"
      }
    },
    {
      "cell_type": "markdown",
      "source": [
        "<strong>Según el modelo para el espacio de soluciones<br>\n",
        "(*)¿Cual es la función objetivo?</strong>\n",
        "\n",
        "<strong>(*)¿Es un problema de maximización o minimización?</strong>"
      ],
      "metadata": {
        "id": "0mCm-xriC8ln"
      }
    },
    {
      "cell_type": "markdown",
      "source": [
        "* Si bien el concepto de este ejercicio es el de evaluar el valor objetivo y el valor resultante de operar la formulación del ejercicio mediante la diferencia, lo esperado es que esta diferencia (entre el valor esperado y el resultado de las operaciones) cda vez se vaya acercando a 0.  Para practicidad del ejercicio, es necesario realizar una operación inversa para maximizar el resultado. En otras palabras, entre mayor sea el resultado fitenss, estaremos acercandonos más al valor esperado\n",
        "\n",
        "* La funcion fitness está expresada como:\n",
        "* $fitness = \\frac{1}{abs(target - eval(formula))}$\n",
        "* Para este caso en concreto determino que no es un problema de maximización y minimización por el contrario es un problema de exploración y búsqueda."
      ],
      "metadata": {
        "id": "HnhU7bsZDMne"
      }
    },
    {
      "cell_type": "code",
      "source": [
        "fitness = lambda expression, target: abs(target - eval(expression))"
      ],
      "metadata": {
        "id": "MVvBvMpPEs5u"
      },
      "execution_count": 1,
      "outputs": []
    },
    {
      "cell_type": "markdown",
      "source": [
        "<strong>* * * * * * * * * * * * * * * * * * * * * * * * * * * * * * * * * * * * * * * * * * * * * * * * * * * * * * * * * * * * * * * * * * * * * * * * * * * * * * * * * * * * * * * * *</strong>"
      ],
      "metadata": {
        "id": "gImAtqLRGfzc"
      }
    },
    {
      "cell_type": "markdown",
      "source": [
        "<strong>Diseña un algoritmo para resolver el problema por fuerza bruta</strong>"
      ],
      "metadata": {
        "id": "mhFzavW6GsLS"
      }
    },
    {
      "cell_type": "markdown",
      "source": [
        "1. Permutaciones de 1 - 9 hasta 5 permutaciones\n",
        "2. Permutaciones de lo operadores\n",
        "\n",
        "* \"x\" es la posición de los número, \"y\" la posición de lo operadores.\n",
        "\n",
        "3. Diferentes soluciones intercambiando \"x\" e \"y\".\n",
        "\n",
        "* Para cada solución obtenida\n",
        "\n",
        "4. Hacer la busqueda del valor máximo y mínimo."
      ],
      "metadata": {
        "id": "6BMbHwEFG3k-"
      }
    },
    {
      "cell_type": "code",
      "source": [
        "import numpy as np\n",
        "from itertools import permutations\n",
        "import time\n",
        "import random"
      ],
      "metadata": {
        "id": "caqiY2MBHdOs"
      },
      "execution_count": 9,
      "outputs": []
    },
    {
      "cell_type": "code",
      "source": [
        "numeros = list(range(1, 10))\n",
        "operadores = ['/', '*', '-', '+']\n",
        "\n",
        "combinacion_numeros = [i for i in permutations(numeros, 5)]\n",
        "combinacion_operadores = [i for i in permutations(operadores)]\n",
        "total = []\n",
        "\n",
        "for n in combinacion_numeros:\n",
        "  for x in combinacion_operadores:\n",
        "    total.append(f'{n[0]}{x[0]}{n[1]}{x[1]}{n[2]}{x[2]}{n[3]}{x[3]}{n[4]}')"
      ],
      "metadata": {
        "id": "eZi8PygEHkuk"
      },
      "execution_count": 10,
      "outputs": []
    },
    {
      "cell_type": "code",
      "source": [
        "def fuerza_bruta(num, permutations):\n",
        "  res = []\n",
        "  max = -np.inf\n",
        "  operacion_max = None\n",
        "\n",
        "  min = np.inf\n",
        "  operacion_minima = None\n",
        "\n",
        "  expresion = None\n",
        "  for x in permutations:\n",
        "    result = int(eval(x))\n",
        "    res.append(result)\n",
        "\n",
        "    if result == num and expresion == None:\n",
        "      expresion = x\n",
        "\n",
        "    if result > max:\n",
        "      max = result\n",
        "      operacion_max = [x]\n",
        "    elif result == max:\n",
        "      operacion_max = x\n",
        "\n",
        "    if result < min:\n",
        "      min = result\n",
        "      operacion_minima = [x]\n",
        "    elif result == min:\n",
        "      operacion_minima = x\n",
        "    \n",
        "  res = list(set(res))\n",
        "  res.sort()\n",
        "  print('os resultados posibles son:')\n",
        "  print(res)\n",
        "\n",
        "  print()\n",
        "\n",
        "  print(f'El máximo es: {max} con {operacion_max}')\n",
        "  print(f'El máximo es: {min} con {operacion_minima}')\n",
        "  return expresion"
      ],
      "metadata": {
        "id": "evg5gPWpKLma"
      },
      "execution_count": 19,
      "outputs": []
    },
    {
      "cell_type": "code",
      "source": [
        "start_time = time.time()\n",
        "expresion = fuerza_bruta(4, total)\n",
        "\n",
        "print('\\n\\n--- %s seconds ---' % (time.time() - start_time))"
      ],
      "metadata": {
        "colab": {
          "base_uri": "https://localhost:8080/"
        },
        "id": "RrgjrYy2LuKC",
        "outputId": "12abe741-df73-4237-f4ee-0a3add606b74"
      },
      "execution_count": 20,
      "outputs": [
        {
          "output_type": "stream",
          "name": "stdout",
          "text": [
            "os resultados posibles son:\n",
            "[-70, -69, -68, -67, -66, -65, -64, -63, -62, -61, -60, -59, -58, -57, -56, -55, -54, -53, -52, -51, -50, -49, -48, -47, -46, -45, -44, -43, -42, -41, -40, -39, -38, -37, -36, -35, -34, -33, -32, -31, -30, -29, -28, -27, -26, -25, -24, -23, -22, -21, -20, -19, -18, -17, -16, -15, -14, -13, -12, -11, -10, -9, -8, -7, -6, -5, -4, -3, -2, -1, 0, 1, 2, 3, 4, 5, 6, 7, 8, 9, 10, 11, 12, 13, 14, 15, 16, 17, 18, 19, 20, 21, 22, 23, 24, 25, 26, 27, 28, 29, 30, 31, 32, 33, 34, 35, 36, 37, 38, 39, 40, 41, 42, 43, 44, 45, 46, 47, 48, 49, 50, 51, 52, 53, 54, 55, 56, 57, 58, 59, 60, 61, 62, 63, 64, 65, 66, 67, 68, 69, 70, 71, 72, 73, 74, 75, 76, 77, 78]\n",
            "\n",
            "El máximo es: 78 con 9*8+7-5/6\n",
            "El máximo es: -70 con 6/7-9*8+1\n",
            "\n",
            "\n",
            "--- 3.5479824542999268 seconds ---\n"
          ]
        }
      ]
    },
    {
      "cell_type": "code",
      "source": [
        "print(f'El resultado de la operación es:', expresion)\n",
        "print(f'Valor obtenido:', int(eval(expresion)))"
      ],
      "metadata": {
        "colab": {
          "base_uri": "https://localhost:8080/"
        },
        "id": "GLg5zkYkL4mU",
        "outputId": "9827f212-7ebb-4cb4-e695-80af5c6d9ee7"
      },
      "execution_count": 21,
      "outputs": [
        {
          "output_type": "stream",
          "name": "stdout",
          "text": [
            "El resultado de la operación es: 1*2+3-4/5\n",
            "Valor obtenido: 4\n"
          ]
        }
      ]
    },
    {
      "cell_type": "markdown",
      "source": [
        "<strong>* * * * * * * * * * * * * * * * * * * * * * * * * * * * * * * * * * * * * * * * * * * * * * * * * * * * * * * * * * * * * * * * * * * * * * * * * * * * * * * * * * * * * * * * *</strong>"
      ],
      "metadata": {
        "id": "PEfiETWcrYoh"
      }
    },
    {
      "cell_type": "markdown",
      "source": [
        "<strong>Calcula la complejidad del algoritmo por fuerza bruta</strong>"
      ],
      "metadata": {
        "id": "uTBpdGfirL6_"
      }
    },
    {
      "cell_type": "markdown",
      "source": [
        "* La complejidad esta dada de la siguiente manera:\n",
        "\n",
        "* O(n!) para los números\n",
        "* O(m!) para los operadores\n",
        "\n",
        "* La complejidad total es: O(n!) + O(m!)"
      ],
      "metadata": {
        "id": "Iqt9eZnasPW7"
      }
    },
    {
      "cell_type": "markdown",
      "source": [
        "<strong>* * * * * * * * * * * * * * * * * * * * * * * * * * * * * * * * * * * * * * * * * * * * * * * * * * * * * * * * * * * * * * * * * * * * * * * * * * * * * * * * * * * * * * * * *</strong>"
      ],
      "metadata": {
        "id": "E38N2Xo7s4k4"
      }
    },
    {
      "cell_type": "markdown",
      "source": [
        "<strong>(*)Diseña un algoritmo que mejore la complejidad del algortimo por fuerza bruta. Argumenta porque crees que mejora el algoritmo por fuerza bruta</strong>"
      ],
      "metadata": {
        "id": "g7-CNqzXst6C"
      }
    },
    {
      "cell_type": "markdown",
      "source": [
        "La propuesta que traigo para mejorar la complejidad el algortimo por fuerza bruta es la implementación de algoritmos genéticos donde se a partir de individos, se hace la selección del más adaptado y a partir de este generar más."
      ],
      "metadata": {
        "id": "o1rlHIo7t39f"
      }
    },
    {
      "cell_type": "markdown",
      "source": [
        "<strong>* * * * * * * * * * * * * * * * * * * * * * * * * * * * * * * * * * * * * * * * * * * * * * * * * * * * * * * * * * * * * * * * * * * * * * * * * * * * * * * * * * * * * * * * *</strong>"
      ],
      "metadata": {
        "id": "X154ZRckuW8a"
      }
    },
    {
      "cell_type": "markdown",
      "source": [
        "<strong>(*)Calcula la complejidad del algoritmo </strong>"
      ],
      "metadata": {
        "id": "qmNuadjXuYWc"
      }
    },
    {
      "cell_type": "markdown",
      "source": [
        "La complejidad del algoritmo es O(n * m), siendo n el tamaño de la población, y m la cantidad máxima de iteraciones (función de parada) que se le asigna al algoritmo.\n",
        "\n",
        "Para este algortimo se define de la siguiente manera:\n",
        "\n",
        "* n = Tamaño de la población\n",
        "* m = cantidad de iteraciones\n",
        "\n",
        "* La complejidad es: O( n * m )"
      ],
      "metadata": {
        "id": "TNdZlEi4vlzW"
      }
    },
    {
      "cell_type": "markdown",
      "source": [
        "<strong>* * * * * * * * * * * * * * * * * * * * * * * * * * * * * * * * * * * * * * * * * * * * * * * * * * * * * * * * * * * * * * * * * * * * * * * * * * * * * * * * * * * * * * * * *</strong>"
      ],
      "metadata": {
        "id": "4fwxGa92wNgd"
      }
    },
    {
      "cell_type": "markdown",
      "source": [
        "<strong>Según el problema (y tenga sentido), diseña un juego de datos de entrada aleatorios</strong>"
      ],
      "metadata": {
        "id": "pDwasQMuwGQv"
      }
    },
    {
      "cell_type": "code",
      "source": [
        "juego_input_inicial = [0, 15, 20, -50, -32, 78, -70]\n",
        "juego_entrada_inicial = ['3+7-2/4*1','3*1/4-6+2','1-6+8*9/3', '9*2/3+8-5', '5*6+4-3/1', '2-1+8/5*6',  '4+9*3/5-6', '9+5/1-7*2', '6*9/1-5+8', '2/5+1*6-3', '5-4/2*3+7', '2/7*3+8-5', '1/8+3*7-6', '5-9/7*8+4', '2+9*6-7/3', '8*2-1+6/3', '9+4-2/7*6', '1*4-5/2+3', '7-5+6*8/4', '8-5/6*2+3', '4+6/7-8*5', '7+2-4*1/9', '3/2*1-8+5', '5/6*8+1-7', '7*1/5+9-4', '4*1-3+6/5', '6+4*9/8-3', '6*2+1/3-8', '9*4+7-3/5', '4*2+9-6/1', '5-9+2/8*1', '7-8/9*4+5', '8/5+7*3-9', '7/8+1*9-4', '1-8+7*2/9', '2*4+5-9/3', '7-1+6/5*2', '6/4+1-2*5', '2/6-5*4+7', '3-7+1*8/5', '9-4*6/3+5', '1*7/3-6+9', '5*1-2+7/4', '6-7+9*5/4', '7*9-1+2/5', '1/3+9*4-6', '1+3*6-5/9', '5/7*4+9-8', '8-6*4/9+2', '2+5*4/8-6', '5+7/8-2*6', '5+1*2/3-6', '9-8/4+7*2', '8+9-3*5/4', '9*5+2-4/6', '9/8*5-4+2', '7-2/5*6+1', '4+5-7/1*9', '9-3+1/6*8', '1-8*2+6/3', '1/9+7-4*6', '3+5-8*6/9', '3/7-5+1*4', '6/8-9+2*7', '1/6*9-5+8', '6-3*1+4/5', '8*9-4/7+6', '9-4*5+3/2', '1/6+7-5*8', '9*6/8+7-2', '9/4*3-5+8', '1*8-4+9/6', '1*2/4+9-6', '6*8-1+4/9', '9+4-3/8*1', '6*7-4/1+2', '7-3/6+5*1', '6/3*4+9-7', '2/4-8+9*3', '2*1+9/8-7', '2-1*3+9/7', '4-6/9+8*7', '7+6-9*3/1', '9+7-8/5*6', '4*7-9+6/2', '3/4*7+9-2', '9-1/5*7+3', '9*7+2/3-8', '4*7/3-6+5', '4/6-3+1*8', '6*8/4+5-3', '8-5/1*6+7', '8/9+1-6*4', '2*3-9+1/4', '9/7+4-5*1', '2-3/8+7*9', '8/4*5+9-3', '6+7*4-3/5', '1*4/6-2+9', '9-6/2*5+8']"
      ],
      "metadata": {
        "id": "5E_O0ynVsRHw"
      },
      "execution_count": 24,
      "outputs": []
    },
    {
      "cell_type": "markdown",
      "source": [
        "<strong>* * * * * * * * * * * * * * * * * * * * * * * * * * * * * * * * * * * * * * * * * * * * * * * * * * * * * * * * * * * * * * * * * * * * * * * * * * * * * * * * * * * * * * * * *</strong>"
      ],
      "metadata": {
        "id": "Pwk2P0IKxFBc"
      }
    },
    {
      "cell_type": "markdown",
      "source": [
        "<strong>Aplica el algoritmo al juego de datos generado</strong>"
      ],
      "metadata": {
        "id": "WyBL-C8-w7bn"
      }
    },
    {
      "cell_type": "code",
      "source": [
        "expand_operation = lambda operation: ([operation[x] for x in range(len(operation)) if x % 2 == 0], [operation[x] for x in range(len(operation)) if x % 2 != 0])"
      ],
      "metadata": {
        "id": "CXAEh6kjw0uE"
      },
      "execution_count": 33,
      "outputs": []
    },
    {
      "cell_type": "code",
      "source": [
        "def generate_solution(N):\n",
        "  solutions = []\n",
        "  for i in range(N):\n",
        "    rand_num = random.randint(0, len(combinacion_numeros) - 1)\n",
        "    rand_op = random.randint(0, len(combinacion_operadores) - 1)\n",
        "\n",
        "    num = combinacion_numeros[rand_num]\n",
        "    op = combinacion_operadores[rand_op]\n",
        "\n",
        "    solutions.append(f'{num[0]}{op[0]}{num[1]}{op[1]}{num[2]}{op[2]}{num[3]}{op[3]}{num[4]}')\n",
        "\n",
        "  return solutions"
      ],
      "metadata": {
        "id": "92bH62DdxLAA"
      },
      "execution_count": 34,
      "outputs": []
    },
    {
      "cell_type": "code",
      "source": [
        "def crossover(population):\n",
        "  children = []\n",
        "  population_ = population.copy()\n",
        "  while len(population_) > 1:\n",
        "    father = population_.pop(random.randint(0, len(population_) - 1))\n",
        "    mother = population_.pop(random.randint(0, len(population_) - 1))\n",
        "\n",
        "    slice_point = random.randint(1, len(father) - 2)\n",
        "    father_pt1, father_pt2 = father[:slice_point], father[slice_point:]\n",
        "    mother_pt1, mother_pt2 = mother[:slice_point], mother[slice_point:]\n",
        "\n",
        "    child1, child2 = father_pt1 + mother_pt2, mother_pt1 + father_pt2\n",
        "    children.append(child1)\n",
        "    children.append(child2)\n",
        "\n",
        "  return children"
      ],
      "metadata": {
        "id": "BhRdtUSJxReM"
      },
      "execution_count": 35,
      "outputs": []
    },
    {
      "cell_type": "code",
      "source": [
        "def check_children(child):\n",
        "  nums, ops = expand_operation(child)\n",
        "\n",
        "  if len(nums) != len(list(set(nums))) or len(ops) != len(list(set(ops))):\n",
        "    available_numbers = [i for i in range(1, 10) if str(i) not in nums]\n",
        "    numbers_in_child = []\n",
        "    for num in nums:\n",
        "      if num not in numbers_in_child:\n",
        "        numbers_in_child.append(num)\n",
        "      else:\n",
        "        new_num = available_numbers.pop(random.randint(0, len(available_numbers) - 1))\n",
        "        numbers_in_child.append(str(new_num))\n",
        "    \n",
        "    available_ops = [i for i in ['+', '-', '*', '/'] if i not in ops]\n",
        "    ops_in_child = []\n",
        "    for op in ops:\n",
        "      if op not in ops_in_child:\n",
        "        ops_in_child.append(op)\n",
        "      else:\n",
        "        new_op = available_ops.pop(random.randint(0, len(available_ops) - 1))\n",
        "        ops_in_child.append(str(new_op))\n",
        "    \n",
        "    corrected_child = f'{numbers_in_child[0]}{ops_in_child[0]}{numbers_in_child[1]}{ops_in_child[1]}{numbers_in_child[2]}{ops_in_child[2]}{numbers_in_child[3]}{ops_in_child[3]}{numbers_in_child[4]}'\n",
        "    return corrected_child\n",
        "  else:\n",
        "    return child"
      ],
      "metadata": {
        "id": "e2kJNJ5-zFZE"
      },
      "execution_count": 36,
      "outputs": []
    },
    {
      "cell_type": "code",
      "source": [
        "fitness_function = lambda individuo, x: 1 / abs(x - eval(individuo)) if x - eval(individuo) != 0 else np.inf"
      ],
      "metadata": {
        "id": "8LauYIhcxZJG"
      },
      "execution_count": 37,
      "outputs": []
    },
    {
      "cell_type": "code",
      "source": [
        "def algoritmo_genetico(target, fitness, max_iter):\n",
        "  cantidad_inicial = 100\n",
        "  poblacion_inicial = generate_solution(cantidad_inicial)\n",
        "\n",
        "  resultado_fitness = list(map(lambda x: fitness(x, target), poblacion_inicial))\n",
        "  \n",
        "  poblacion_fitness = list(zip(poblacion_inicial, resultado_fitness))\n",
        "  poblacion_fitness.sort(key = lambda x: x[1], reverse = True)\n",
        "  \n",
        "  cont = 0\n",
        "  best_op = None\n",
        "  best_try = 0\n",
        "  tries = 0\n",
        "  while cont < max_iter:\n",
        "    seleccion = poblacion_fitness[:int(0.7*len(poblacion_fitness))]\n",
        "    seleccion = [x[0] for x in seleccion]\n",
        "    \n",
        "    children = crossover(seleccion)\n",
        "    children = [check_children(child) for child in children] + generate_solution(cantidad_inicial - len(seleccion))\n",
        "\n",
        "    resultado_fitness = list(map(lambda x: fitness(x, target), children))\n",
        "    poblacion_fitness = list(zip(children, resultado_fitness))\n",
        "    poblacion_fitness.sort(key = lambda x: x[1], reverse = True)\n",
        "\n",
        "    if poblacion_fitness[0][1] == np.inf:\n",
        "      best_op = poblacion_fitness[0][0]\n",
        "      break\n",
        "    else:\n",
        "      if poblacion_fitness[0][1] > best_try:\n",
        "        print(f'Score actual: {poblacion_fitness[0][1]} en el intento: {cont}')\n",
        "        best_op = poblacion_fitness[0][0]\n",
        "        best_try = poblacion_fitness[0][1]\n",
        "        tries = 0\n",
        "      else:\n",
        "        tries += 1\n",
        "\n",
        "      if tries > 0.25 * max_iter:\n",
        "        break\n",
        "\n",
        "    cont += 1\n",
        "\n",
        "  print(f'Número para llegar al óptimo:', cont)\n",
        "  return best_op"
      ],
      "metadata": {
        "id": "fJ14EuU4zJxg"
      },
      "execution_count": 41,
      "outputs": []
    },
    {
      "cell_type": "code",
      "source": [
        "start_time = time.time()\n",
        "\n",
        "N = 200\n",
        "operacion = algoritmo_genetico(68, fitness_function, N)\n",
        "\n",
        "print(f'\\n\\n ----- {(time.time() - start_time)} seconds -----')\n",
        "print()\n",
        "print()\n",
        "\n",
        "print(f'El resultado de la operación es:', operacion)\n",
        "print(f'El valor es:', int(eval(operacion)))"
      ],
      "metadata": {
        "colab": {
          "base_uri": "https://localhost:8080/"
        },
        "id": "fzCgvL2bxf9v",
        "outputId": "afb4f76b-b04b-42cd-9f59-83d7b1e3757f"
      },
      "execution_count": 45,
      "outputs": [
        {
          "output_type": "stream",
          "name": "stdout",
          "text": [
            "Score actual: 0.454545454545454 en el intento: 0\n",
            "Score actual: 2.0 en el intento: 2\n",
            "Número para llegar al óptimo: 13\n",
            "\n",
            "\n",
            " ----- 0.04336810111999512 seconds -----\n",
            "\n",
            "\n",
            "El resultado de la operación es: 9*7+8-6/2\n",
            "El valor es: 68\n"
          ]
        }
      ]
    },
    {
      "cell_type": "markdown",
      "source": [
        "<strong>* * * * * * * * * * * * * * * * * * * * * * * * * * * * * * * * * * * * * * * * * * * * * * * * * * * * * * * * * * * * * * * * * * * * * * * * * * * * * * * * * * * * * * * * *</strong>"
      ],
      "metadata": {
        "id": "ufuN9jxpz_L5"
      }
    },
    {
      "cell_type": "markdown",
      "source": [
        "<strong>Enumera las referencias que has utilizado(si ha sido necesario) para llevar a cabo el trabajo</strong>"
      ],
      "metadata": {
        "id": "M8NtL_FZzyZV"
      }
    },
    {
      "cell_type": "markdown",
      "source": [
        "* https://conogasi.org/articulos/algoritmos-geneticos/\n",
        "* https://anderfernandez.com/blog/algoritmo-genetico-en-python/"
      ],
      "metadata": {
        "id": "wBwNjy650QcB"
      }
    },
    {
      "cell_type": "code",
      "source": [],
      "metadata": {
        "id": "dK8DLS9Kz6eG"
      },
      "execution_count": null,
      "outputs": []
    }
  ]
}